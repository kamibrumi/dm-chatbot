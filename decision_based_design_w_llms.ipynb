{
 "cells": [
  {
   "cell_type": "markdown",
   "metadata": {},
   "source": [
    "Notebook to experiment with the following end to end process: from dataset+task in NL, to typology based diagram, to design recommendation."
   ]
  },
  {
   "cell_type": "code",
   "execution_count": 2,
   "metadata": {},
   "outputs": [],
   "source": [
    "from langchain_community.llms import Ollama\n",
    "from langchain.prompts import ChatPromptTemplate\n",
    "from langchain.chat_models import ChatOpenAI\n",
    "from langchain.schema.output_parser import StrOutputParser\n",
    "from langchain.document_loaders import PyPDFLoader\n",
    "from langchain_community.embeddings import HuggingFaceBgeEmbeddings\n",
    "from langchain.document_loaders import PyPDFLoader\n",
    "from langchain.vectorstores import Chroma\n",
    "from langchain_community.embeddings import HuggingFaceBgeEmbeddings\n",
    "from langchain_community.llms import Ollama\n",
    "from langchain.text_splitter import TokenTextSplitter\n",
    "import glob\n",
    "from pprint import pprint\n",
    "\n",
    "from langchain.document_loaders import NotionDirectoryLoader\n",
    "from langchain.text_splitter import MarkdownHeaderTextSplitter\n",
    "from langchain_community.document_loaders import UnstructuredMarkdownLoader\n",
    "from langchain_core.documents import Document\n",
    "\n",
    "from langchain.prompts import ChatPromptTemplate\n",
    "from langchain.chat_models import ChatOpenAI\n",
    "from langchain.schema.output_parser import StrOutputParser\n",
    "\n",
    "from langchain.schema.runnable import RunnableMap\n",
    "from langchain_core.prompts import PromptTemplate"
   ]
  },
  {
   "cell_type": "code",
   "execution_count": 3,
   "metadata": {},
   "outputs": [],
   "source": [
    "model = Ollama(model=\"llama3:8b\", temperature=0)"
   ]
  },
  {
   "cell_type": "markdown",
   "metadata": {},
   "source": [
    "## Determine the end goal/decision\n",
    "Input: dataset description\n",
    "\n",
    "Output: The decision task"
   ]
  },
  {
   "cell_type": "code",
   "execution_count": 4,
   "metadata": {},
   "outputs": [],
   "source": [
    "documents = []\n",
    "documents.extend(PyPDFLoader(\"docs/dm.pdf\").load())"
   ]
  },
  {
   "cell_type": "code",
   "execution_count": 5,
   "metadata": {},
   "outputs": [
    {
     "data": {
      "text/plain": [
       "260"
      ]
     },
     "execution_count": 5,
     "metadata": {},
     "output_type": "execute_result"
    }
   ],
   "source": [
    "text_splitter = TokenTextSplitter(chunk_size=100, chunk_overlap=25)\n",
    "docs = text_splitter.split_documents(documents)\n",
    "len(docs)"
   ]
  },
  {
   "cell_type": "code",
   "execution_count": 6,
   "metadata": {},
   "outputs": [
    {
     "name": "stderr",
     "output_type": "stream",
     "text": [
      "/Users/cameliadanielabrumar/anaconda3/envs/llama-env/lib/python3.12/site-packages/sentence_transformers/cross_encoder/CrossEncoder.py:11: TqdmExperimentalWarning: Using `tqdm.autonotebook.tqdm` in notebook mode. Use `tqdm.tqdm` instead to force console mode (e.g. in jupyter console)\n",
      "  from tqdm.autonotebook import tqdm, trange\n",
      "/Users/cameliadanielabrumar/anaconda3/envs/llama-env/lib/python3.12/site-packages/huggingface_hub/file_download.py:1132: FutureWarning: `resume_download` is deprecated and will be removed in version 1.0.0. Downloads always resume when possible. If you want to force a new download, use `force_download=True`.\n",
      "  warnings.warn(\n"
     ]
    },
    {
     "name": "stdout",
     "output_type": "stream",
     "text": [
      "260\n"
     ]
    }
   ],
   "source": [
    "model_name = \"BAAI/bge-small-en\"\n",
    "model_kwargs = {\"device\": \"cpu\"}\n",
    "encode_kwargs = {\"normalize_embeddings\": True}\n",
    "hf = HuggingFaceBgeEmbeddings(\n",
    "    model_name=model_name, model_kwargs=model_kwargs, encode_kwargs=encode_kwargs\n",
    ")\n",
    "\n",
    "persist_directory = 'docs/chroma/'\n",
    "!rm -rf docs/chroma  # remove old database files if any\n",
    "\n",
    "vectordb = Chroma.from_documents( # had an error previuously, downgraded to chromadb version 0.4.3 using command: pip install chromadb==0.4.3. See https://github.com/zylon-ai/private-gpt/issues/1012\n",
    "    documents=docs,\n",
    "    embedding=hf,\n",
    "    persist_directory=persist_directory,\n",
    ")\n",
    "retriever = vectordb.as_retriever()\n",
    "\n",
    "print(vectordb._collection.count())"
   ]
  },
  {
   "cell_type": "code",
   "execution_count": 7,
   "metadata": {},
   "outputs": [],
   "source": [
    "nl_to_typology_goal_template = \"\"\"Imagine you are a visualization designer who wants to understand what are the decisions an expert in embryology and in vitro fertilization would make when designing a visualization.\n",
    "You are tasked with taking the dataset and the task the expert is trying to accomplish and translating the task into one of the decision making tasks that appear in Typology of\n",
    "Decision-Making Tasks for Visualization paper.\n",
    "\n",
    "The three possible decision tasks are: CHOOSE, ACTIVATE and CREATE. Give a brief explanation of the decision making task you chose and why you think it is the most appropriate for the task at hand.\n",
    "When providing reasons, give explanations that relate to the definitions of the three tasks as described in the Typology of Decision-Making Tasks for Visualization paper.\n",
    "The dataset description, task description, and typology of decision making tasks paper are given below. \n",
    "\n",
    "Relevant context from the Typology of Decision-Making Tasks for Visualization paper: {context}\n",
    "Data Description: {data_description}\n",
    "Task Description: {task_description}\n",
    "\"\"\"\n",
    "# prompt = ChatPromptTemplate.from_template(template)\n",
    "nl_to_typology_goal_prompt_template = PromptTemplate.from_template(nl_to_typology_goal_template)"
   ]
  },
  {
   "cell_type": "code",
   "execution_count": 8,
   "metadata": {},
   "outputs": [
    {
     "name": "stderr",
     "output_type": "stream",
     "text": [
      "/Users/cameliadanielabrumar/anaconda3/envs/llama-env/lib/python3.12/site-packages/langchain_core/_api/deprecation.py:119: LangChainDeprecationWarning: The method `BaseRetriever.get_relevant_documents` was deprecated in langchain-core 0.1.46 and will be removed in 0.3.0. Use invoke instead.\n",
      "  warn_deprecated(\n"
     ]
    },
    {
     "data": {
      "text/plain": [
       "[Document(page_content=' a typology for decision-making tasks in visualiza-\\ntion, addressing the limitations of existing taxonomies. Built upon prior\\nresearch and informed by design goals derived from a thorough liter-\\nature review, the typology comprises three decision tasks: CHOOSE,\\nACTIV ATE, and CREATE. These tasks allow for the representation\\nof complex decision-making structures, as they can be composed or\\ndecomposed into other tasks. The typology demonstrates completeness,', metadata={'page': 8, 'source': 'docs/dm.pdf'}),\n",
       " Document(page_content=' real-world visualization\\nsystems.\\n4.1 Decision-Making Tasks\\nOur typology consists of three tasks derived from the scientific\\nliterature [27, 28] : CHOOSE, ACTIV ATE, and CREATE. Each task is\\na function that represents a specific and distinct decision problem. The\\ntype of the inputs to these functions does not change the core process\\nof the decision task. Some of the key differences between the tasks are\\nthe unique transformations of', metadata={'page': 3, 'source': 'docs/dm.pdf'}),\n",
       " Document(page_content=' created a typology that\\nreflects and captures the ubiquity of decision-making while allowing\\nfor flexibility in the execution of decisions. Here we define the tasks of\\nour typology, focusing on the unique properties of each. We then move\\nto a discussion of the composability of the tasks, followed by four case\\nstudies that illustrate the outlined properties in real-world visualization\\nsystems.\\n4.1 Decision-Making Tasks\\nOur typology consists of three tasks', metadata={'page': 3, 'source': 'docs/dm.pdf'}),\n",
       " Document(page_content=' shows the three decision tasks in our typology: CHOOSE, ACTIVATE, and CREATE. The CHOOSE task assesses\\noptions and outputs a subset deemed optimal or best. The ACTIVATE task represents a decision where options are evaluated, and\\nonly those that meet or exceed a threshold are returned. The CREATE task represents decisions on assembling, synthesizing, or\\ngenerating new information. Together, these three decision tasks can be composed to represent complex decision-making problems.', metadata={'page': 0, 'source': 'docs/dm.pdf'})]"
      ]
     },
     "execution_count": 8,
     "metadata": {},
     "output_type": "execute_result"
    }
   ],
   "source": [
    "dm_task_definitions_question = \"What are the three decision making tasks in my typology?\"\n",
    "retriever.get_relevant_documents(dm_task_definitions_question)"
   ]
  },
  {
   "cell_type": "code",
   "execution_count": 9,
   "metadata": {},
   "outputs": [],
   "source": [
    "nl_to_typology_goal_chain = RunnableMap({\n",
    "    \"context\": lambda x: retriever.get_relevant_documents(dm_task_definitions_question),\n",
    "    \"data_description\": lambda x: x[\"data\"],\n",
    "    \"task_description\": lambda x: x[\"task\"]\n",
    "}) | nl_to_typology_goal_prompt_template | model"
   ]
  },
  {
   "cell_type": "code",
   "execution_count": 10,
   "metadata": {},
   "outputs": [
    {
     "name": "stdout",
     "output_type": "stream",
     "text": [
      "After analyzing the dataset and task description, I believe that the most appropriate decision-making task is ACTIVATE.\n",
      "\n",
      "The ACTIVATE task represents a decision where options are evaluated, and only those that meet or exceed a threshold are returned. In this case, the expert in embryology and in vitro fertilization needs to evaluate the medication dose based on various patient parameters (age, BMI, AMH, and AFC) and recommend a dosage for the current patient.\n",
      "\n",
      "The task requires evaluating options (different medication doses) against specific criteria (patient parameters), and only those that meet or exceed a certain threshold (optimal dosage) are returned. This process involves filtering out suboptimal options based on the evaluation of the patient's characteristics, which aligns with the ACTIVATE task definition.\n",
      "\n",
      "In contrast, the CHOOSE task would require selecting one option from a set of available options, which might not accurately capture the complexity of evaluating multiple patient parameters and recommending an optimal dosage. The CREATE task would involve generating new information or assembling existing information to make a decision, which is not applicable in this case since the expert already has the dataset and needs to evaluate it based on specific criteria.\n",
      "\n",
      "Therefore, I believe that the ACTIVATE task best represents the decision-making process required to understand how medication dose varies with patient parameters and recommend an optimal dosage for the current patient.\n"
     ]
    }
   ],
   "source": [
    "nl_to_typology_goal_chain_output =  nl_to_typology_goal_chain.invoke({\"data\": \"tabular data where each row is a patient, and the associated levels of age, bmi amh and afc at the time of the Egg Retrieval Procedure.\",\n",
    "              \"task\": \"understand how the medication dose varies with the following patient parameters: age, bmi amh and afc then recommend a dosage for the current patient.\"\n",
    "              })\n",
    "print(nl_to_typology_goal_chain_output)"
   ]
  },
  {
   "cell_type": "markdown",
   "metadata": {},
   "source": [
    "## Expand the decision tasks iteratively\n",
    "Input: The  decision task.\n",
    "\n",
    "Ouput: a typology based diagram."
   ]
  },
  {
   "cell_type": "code",
   "execution_count": 11,
   "metadata": {},
   "outputs": [
    {
     "data": {
      "text/plain": [
       "'ACTIVATE'"
      ]
     },
     "execution_count": 11,
     "metadata": {},
     "output_type": "execute_result"
    }
   ],
   "source": [
    "decision_task = model.invoke(\"What is the decision task the following text is describing? Answer with one of these three words and nothing else: CHOOSE, ACTIVATE or CREATE. \\n\" \n",
    "                             + nl_to_typology_goal_chain_output)\n",
    "\n",
    "decision_task"
   ]
  },
  {
   "cell_type": "code",
   "execution_count": 12,
   "metadata": {},
   "outputs": [
    {
     "data": {
      "text/plain": [
       "[Document(page_content=', during our interview study, we observed a preference among\\nparticipants for a top-down approach (see Section 7). The participantsstarted with high-level decision tasks and recursively decomposed them\\ninto sub-tasks until they achieved the desired level of granularity. In the\\ncase studies below, we demonstrate how these decision-task hierarchies\\ncan be created through a series of decompositions.\\n6 C ASESTUDIES\\nTo illustrate the composability andh', metadata={'page': 4, 'source': 'docs/dm.pdf'}),\n",
       " Document(page_content=' of real-world decision-making\\nproblems, as our tasks can be composed or decomposed into other\\ntasks.arXiv:2404.08812v2  [cs.HC]  22 Apr 2024', metadata={'page': 0, 'source': 'docs/dm.pdf'}),\n",
       " Document(page_content=' This involved dissecting the decision processes, identifying key\\ncomponents, and highlighting other properties relevant to decision-\\nmaking, as outlined in subsection 3.3.\\nFollowing this, we conducted collaborative working sessions with\\nall authors to generate a comprehensive set of decision-making tasks\\nthat met the design goals. This was an iterative process that involved\\ncontinuous refinement and validation of the decision tasks and their\\ndefinitions, drawing upon prominent decision-making theory papers, as\\nwe discuss', metadata={'page': 2, 'source': 'docs/dm.pdf'}),\n",
       " Document(page_content='decision tasks implicitly defines a hierarchical\\nstructure of decision tasks. These hierarchies can be useful as they can\\ndescribe a decision task at a high-level abstraction, while also offering\\ndetailed step-by-step decision-making processes at lower levels. While\\nthese hierarchies can be constructed either from the top-down or the\\nbottom-up, during our interview study, we observed a preference among\\nparticipants for a top-down approach (see Section 7).', metadata={'page': 4, 'source': 'docs/dm.pdf'})]"
      ]
     },
     "execution_count": 12,
     "metadata": {},
     "output_type": "execute_result"
    }
   ],
   "source": [
    "decomposition_context_question = \"How do you decompose decision making tasks?\"\n",
    "retriever.get_relevant_documents(decomposition_context_question)"
   ]
  },
  {
   "cell_type": "code",
   "execution_count": 36,
   "metadata": {},
   "outputs": [],
   "source": [
    "typology_goal_to_diagram_template = \"\"\"Imagine you are a visualization designer who wants to understand what are the decisions an expert in embryology and in vitro fertilization would make when recommending medication for ovarian stimulation.\n",
    "You are tasked with taking the decision goal explained as context below, and expanding it according to the decomposition instructions, also given below. The decision goal should be decomposed\n",
    "in {number_of_subtasks} decision subtasks. Each subtask should be also one of the three decision making tasks that appear in Typology of Decision-Making Tasks for Visualization paper (CHOOSE, ACTIVATE, CREATE).\n",
    "Explain how the decisions are connected to each other and how they contribute to the overall decision goal. \n",
    "For that, describe the node-link diagram of the decision making process in a couple of tables, where each node is a decision subtask and each edge is a connection between two decision subtasks.\n",
    "The first table has the following columns: node id, node type (CHOOSE, ACTIVATE, or CREATE), that is, the name of the decision task, and the description of the decision task. The node id starts at 1, and increments by 1 for each decision task.\n",
    "The second table has the following columns: Source, Target, and the information being passed from one decition to the other. \n",
    "The Source and Target columns should contain the ids of the decisiont tasks, names of the decision tasks, and the Description column should contain a brief explanation of the connection between the two decision tasks.\n",
    "\n",
    "Don't forget to add what the decision goal is at the beginning of the response.\n",
    "\n",
    "Relevant context from the Typology of Decision-Making Tasks for Visualization paper: {decision_task_definitions}\n",
    "Relevant decomposition instructions from the Typology of Decision-Making Tasks for Visualization paper: {decomposition_context}\n",
    "Decision Goal Description: {decision_goal_description}\n",
    "\"\"\"\n",
    "# prompt = ChatPromptTemplate.from_template(template)\n",
    "typology_goal_to_diagram_prompt_template = PromptTemplate.from_template(typology_goal_to_diagram_template)"
   ]
  },
  {
   "cell_type": "code",
   "execution_count": 37,
   "metadata": {},
   "outputs": [],
   "source": [
    "typology_goal_to_diagram_chain = RunnableMap({\n",
    "    \"number_of_subtasks\": lambda x: x[\"number_of_subtasks\"],\n",
    "    \"decision_task_definitions\": lambda x: retriever.get_relevant_documents(dm_task_definitions_question),\n",
    "    \"decomposition_context\": lambda x: retriever.get_relevant_documents(decomposition_context_question),\n",
    "    \"decision_goal_description\": lambda x: x[\"decision_goal_description\"]\n",
    "}) | typology_goal_to_diagram_prompt_template | model"
   ]
  },
  {
   "cell_type": "code",
   "execution_count": 38,
   "metadata": {},
   "outputs": [
    {
     "name": "stdout",
     "output_type": "stream",
     "text": [
      "**Decision Goal:** After analyzing the dataset and task description, I believe that the most appropriate decision-making task is ACTIVATE.\n",
      "\n",
      "**Decomposition of Decision Goal:**\n",
      "\n",
      "| Node ID | Node Type | Description |\n",
      "| --- | --- | --- |\n",
      "| 1 | CHOOSE | Evaluate patient parameters (age, BMI, AMH, AFC) to determine relevant medication options. |\n",
      "| 2 | ACTIVATE | Activate the evaluation process by comparing each medication option against the patient's parameters and filter out suboptimal options based on a threshold (optimal dosage). |\n",
      "\n",
      "**Node-Link Diagram:**\n",
      "\n",
      "| Source | Target | Description |\n",
      "| --- | --- | --- |\n",
      "| 1 | 2 | The CHOOSE task provides the relevant patient parameters, which are used to evaluate medication options in the ACTIVATE task. |\n",
      "| 2 | - | The ACTIVATE task outputs a filtered list of optimal medication options based on the evaluation process. |\n",
      "\n",
      "In this decomposition, the CHOOSE task (Node 1) is responsible for evaluating patient parameters and determining relevant medication options. The ACTIVATE task (Node 2) takes these options as input and filters out suboptimal ones based on a threshold (optimal dosage). The connection between Node 1 and Node 2 represents the flow of information from patient parameters to the evaluation process.\n",
      "\n",
      "The decision-making process can be represented as follows:\n",
      "\n",
      "1. CHOOSE: Evaluate patient parameters (age, BMI, AMH, AFC) to determine relevant medication options.\n",
      "2. ACTIVATE: Activate the evaluation process by comparing each medication option against the patient's parameters and filter out suboptimal options based on a threshold (optimal dosage).\n",
      "\n",
      "By decomposing the decision goal into these two tasks, we can better understand how the expert in embryology and in vitro fertilization evaluates medication dose based on various patient parameters and recommends an optimal dosage for the current patient.\n"
     ]
    }
   ],
   "source": [
    "typology_goal_to_diagram_chain_output =  typology_goal_to_diagram_chain.invoke({\"number_of_subtasks\": 2,\n",
    "              \"decision_goal_description\": nl_to_typology_goal_chain_output\n",
    "              })\n",
    "print(typology_goal_to_diagram_chain_output)"
   ]
  },
  {
   "cell_type": "markdown",
   "metadata": {},
   "source": [
    "Note to self: this can be improved by adding memory to the llm, that is, I shouldn't have to pass it the previous output, to every new prompt template, but I should just use a template.\n",
    "See the memory module in this course: https://learn.deeplearning.ai/courses/langchain/lesson/3/memory\n",
    "\n",
    "From natural language to pandas diagram. See example of how to format the graph in a table here: https://towardsdatascience.com/visualizing-networks-in-python-d70f4cbeb259"
   ]
  },
  {
   "cell_type": "code",
   "execution_count": 86,
   "metadata": {},
   "outputs": [],
   "source": [
    "# testing the json parser\n",
    "from langchain_core.output_parsers import JsonOutputParser\n",
    "from langchain_core.prompts import PromptTemplate\n",
    "from langchain_core.pydantic_v1 import BaseModel, Field\n",
    "from langchain_openai import ChatOpenAI\n",
    "\n",
    "# Define your desired data structure.\n",
    "# took the structure from here: https://gist.github.com/mbostock/4062045\n",
    "class Node(BaseModel):\n",
    "    node_id: int = Field(description=\"this field is called 'id'. id of the node in the graph, starting at 1\")\n",
    "    node_type: dict = Field(description=\"this field is called 'node_type'. node in the graph with the name of the associated decision making task (CHOOSE, ACTIVATE or CREATE)\")\n",
    "    node_description: dict = Field(description=\"this field is called 'description'. description of the decision making task\")\n",
    "\n",
    "class Link(BaseModel):\n",
    "    source: dict = Field(description=\"this field is called 'source'. id of the source node in the graph\")\n",
    "    target: dict = Field(description=\"this field is called 'target'. id of the target node in the graph\")\n",
    "\n",
    "class Graph(BaseModel):\n",
    "    nodes: list = Field(description=\"list of nodes in the graph\")\n",
    "    links: list = Field(description=\"list of links in the graph\")\n",
    "\n"
   ]
  },
  {
   "cell_type": "code",
   "execution_count": 93,
   "metadata": {},
   "outputs": [],
   "source": [
    "# And a query intented to prompt a language model to populate the data structure.\n",
    "query = '''Parse the following decision process in a graph. The decisions are nodes, and the dependencies between the decisions are links. \n",
    "Make sure that the nodes have an id and that the links use the actual node ids. \n",
    "The decision process is described as follows: \\n ''' + typology_goal_to_diagram_chain_output\n",
    "\n",
    "# Set up a parser + inject instructions into the prompt template.\n",
    "parser = JsonOutputParser(pydantic_object=Graph)\n",
    "\n",
    "prompt = PromptTemplate(\n",
    "    template=\"Answer the user query.\\n{format_instructions}\\n{query}\\n\",\n",
    "    input_variables=[\"query\"],\n",
    "    partial_variables={\"format_instructions\": parser.get_format_instructions()},\n",
    ")\n",
    "\n",
    "chain = prompt | model | parser\n",
    "\n",
    "output_json = chain.invoke({\"query\": query})"
   ]
  },
  {
   "cell_type": "code",
   "execution_count": 94,
   "metadata": {},
   "outputs": [
    {
     "data": {
      "text/plain": [
       "'The output should be formatted as a JSON instance that conforms to the JSON schema below.\\n\\nAs an example, for the schema {\"properties\": {\"foo\": {\"title\": \"Foo\", \"description\": \"a list of strings\", \"type\": \"array\", \"items\": {\"type\": \"string\"}}}, \"required\": [\"foo\"]}\\nthe object {\"foo\": [\"bar\", \"baz\"]} is a well-formatted instance of the schema. The object {\"properties\": {\"foo\": [\"bar\", \"baz\"]}} is not well-formatted.\\n\\nHere is the output schema:\\n```\\n{\"properties\": {\"nodes\": {\"title\": \"Nodes\", \"description\": \"list of nodes in the graph\", \"type\": \"array\", \"items\": {}}, \"links\": {\"title\": \"Links\", \"description\": \"list of links in the graph\", \"type\": \"array\", \"items\": {}}}, \"required\": [\"nodes\", \"links\"]}\\n```'"
      ]
     },
     "execution_count": 94,
     "metadata": {},
     "output_type": "execute_result"
    }
   ],
   "source": [
    "parser.get_format_instructions()"
   ]
  },
  {
   "cell_type": "code",
   "execution_count": 95,
   "metadata": {},
   "outputs": [
    {
     "data": {
      "text/plain": [
       "{'properties': {'nodes': {'title': 'Nodes',\n",
       "   'description': 'list of nodes in the graph',\n",
       "   'type': 'array',\n",
       "   'items': [{'id': 1,\n",
       "     'type': 'CHOOSE',\n",
       "     'description': 'Evaluate patient parameters (age, BMI, AMH, AFC) to determine relevant medication options.'},\n",
       "    {'id': 2,\n",
       "     'type': 'ACTIVATE',\n",
       "     'description': \"Activate the evaluation process by comparing each medication option against the patient's parameters and filter out suboptimal options based on a threshold (optimal dosage).\"}]},\n",
       "  'links': {'title': 'Links',\n",
       "   'description': 'list of links in the graph',\n",
       "   'type': 'array',\n",
       "   'items': [{'source': 1,\n",
       "     'target': 2,\n",
       "     'description': 'The CHOOSE task provides the relevant patient parameters, which are used to evaluate medication options in the ACTIVATE task.'}]}},\n",
       " 'required': ['nodes', 'links']}"
      ]
     },
     "execution_count": 95,
     "metadata": {},
     "output_type": "execute_result"
    }
   ],
   "source": [
    "output_json"
   ]
  },
  {
   "cell_type": "code",
   "execution_count": 96,
   "metadata": {},
   "outputs": [
    {
     "data": {
      "text/plain": [
       "[{'id': 1,\n",
       "  'type': 'CHOOSE',\n",
       "  'description': 'Evaluate patient parameters (age, BMI, AMH, AFC) to determine relevant medication options.'},\n",
       " {'id': 2,\n",
       "  'type': 'ACTIVATE',\n",
       "  'description': \"Activate the evaluation process by comparing each medication option against the patient's parameters and filter out suboptimal options based on a threshold (optimal dosage).\"}]"
      ]
     },
     "execution_count": 96,
     "metadata": {},
     "output_type": "execute_result"
    }
   ],
   "source": [
    "output_json['properties']['nodes']['items']"
   ]
  },
  {
   "cell_type": "code",
   "execution_count": null,
   "metadata": {},
   "outputs": [],
   "source": []
  },
  {
   "cell_type": "code",
   "execution_count": 97,
   "metadata": {},
   "outputs": [
    {
     "name": "stderr",
     "output_type": "stream",
     "text": [
      "/var/folders/xq/gb72q1px7yb_s35rx4h5l0n00000gn/T/ipykernel_28396/3712040430.py:3: FutureWarning: Passing literal json to 'read_json' is deprecated and will be removed in a future version. To read from a literal string, wrap it in a 'StringIO' object.\n",
      "  nodes_df = pd.read_json(json.dumps(output_json['properties']['nodes']['items']))\n"
     ]
    },
    {
     "data": {
      "text/html": [
       "<div>\n",
       "<style scoped>\n",
       "    .dataframe tbody tr th:only-of-type {\n",
       "        vertical-align: middle;\n",
       "    }\n",
       "\n",
       "    .dataframe tbody tr th {\n",
       "        vertical-align: top;\n",
       "    }\n",
       "\n",
       "    .dataframe thead th {\n",
       "        text-align: right;\n",
       "    }\n",
       "</style>\n",
       "<table border=\"1\" class=\"dataframe\">\n",
       "  <thead>\n",
       "    <tr style=\"text-align: right;\">\n",
       "      <th></th>\n",
       "      <th>id</th>\n",
       "      <th>type</th>\n",
       "      <th>description</th>\n",
       "    </tr>\n",
       "  </thead>\n",
       "  <tbody>\n",
       "    <tr>\n",
       "      <th>0</th>\n",
       "      <td>1</td>\n",
       "      <td>CHOOSE</td>\n",
       "      <td>Evaluate patient parameters (age, BMI, AMH, AF...</td>\n",
       "    </tr>\n",
       "    <tr>\n",
       "      <th>1</th>\n",
       "      <td>2</td>\n",
       "      <td>ACTIVATE</td>\n",
       "      <td>Activate the evaluation process by comparing e...</td>\n",
       "    </tr>\n",
       "  </tbody>\n",
       "</table>\n",
       "</div>"
      ],
      "text/plain": [
       "   id      type                                        description\n",
       "0   1    CHOOSE  Evaluate patient parameters (age, BMI, AMH, AF...\n",
       "1   2  ACTIVATE  Activate the evaluation process by comparing e..."
      ]
     },
     "execution_count": 97,
     "metadata": {},
     "output_type": "execute_result"
    }
   ],
   "source": [
    "import pandas as pd\n",
    "\n",
    "nodes_df = pd.read_json(json.dumps(output_json['properties']['nodes']['items']))\n",
    "nodes_df"
   ]
  },
  {
   "cell_type": "code",
   "execution_count": 98,
   "metadata": {},
   "outputs": [
    {
     "name": "stderr",
     "output_type": "stream",
     "text": [
      "/var/folders/xq/gb72q1px7yb_s35rx4h5l0n00000gn/T/ipykernel_28396/1606649814.py:1: FutureWarning: Passing literal json to 'read_json' is deprecated and will be removed in a future version. To read from a literal string, wrap it in a 'StringIO' object.\n",
      "  edges_df = pd.read_json(json.dumps(output_json['properties']['links']['items']))\n"
     ]
    },
    {
     "data": {
      "text/html": [
       "<div>\n",
       "<style scoped>\n",
       "    .dataframe tbody tr th:only-of-type {\n",
       "        vertical-align: middle;\n",
       "    }\n",
       "\n",
       "    .dataframe tbody tr th {\n",
       "        vertical-align: top;\n",
       "    }\n",
       "\n",
       "    .dataframe thead th {\n",
       "        text-align: right;\n",
       "    }\n",
       "</style>\n",
       "<table border=\"1\" class=\"dataframe\">\n",
       "  <thead>\n",
       "    <tr style=\"text-align: right;\">\n",
       "      <th></th>\n",
       "      <th>source</th>\n",
       "      <th>target</th>\n",
       "      <th>description</th>\n",
       "    </tr>\n",
       "  </thead>\n",
       "  <tbody>\n",
       "    <tr>\n",
       "      <th>0</th>\n",
       "      <td>1</td>\n",
       "      <td>2</td>\n",
       "      <td>The CHOOSE task provides the relevant patient ...</td>\n",
       "    </tr>\n",
       "  </tbody>\n",
       "</table>\n",
       "</div>"
      ],
      "text/plain": [
       "   source  target                                        description\n",
       "0       1       2  The CHOOSE task provides the relevant patient ..."
      ]
     },
     "execution_count": 98,
     "metadata": {},
     "output_type": "execute_result"
    }
   ],
   "source": [
    "edges_df = pd.read_json(json.dumps(output_json['properties']['links']['items']))\n",
    "edges_df"
   ]
  },
  {
   "cell_type": "code",
   "execution_count": 105,
   "metadata": {},
   "outputs": [],
   "source": [
    "G = nx.from_pandas_edgelist(edges_df, 'source', 'target', 'description')"
   ]
  },
  {
   "cell_type": "code",
   "execution_count": 106,
   "metadata": {},
   "outputs": [],
   "source": [
    "node_attributes = nodes_df.set_index('id')['type'].to_dict()\n",
    "nx.set_node_attributes(G, node_attributes, 'node_type')"
   ]
  },
  {
   "cell_type": "code",
   "execution_count": 108,
   "metadata": {},
   "outputs": [
    {
     "data": {
      "text/plain": [
       "AtlasView({2: {'description': 'The CHOOSE task provides the relevant patient parameters, which are used to evaluate medication options in the ACTIVATE task.'}})"
      ]
     },
     "execution_count": 108,
     "metadata": {},
     "output_type": "execute_result"
    }
   ],
   "source": [
    "G[1]"
   ]
  },
  {
   "cell_type": "code",
   "execution_count": null,
   "metadata": {},
   "outputs": [],
   "source": []
  }
 ],
 "metadata": {
  "kernelspec": {
   "display_name": "llama-env",
   "language": "python",
   "name": "python3"
  },
  "language_info": {
   "codemirror_mode": {
    "name": "ipython",
    "version": 3
   },
   "file_extension": ".py",
   "mimetype": "text/x-python",
   "name": "python",
   "nbconvert_exporter": "python",
   "pygments_lexer": "ipython3",
   "version": "3.12.3"
  }
 },
 "nbformat": 4,
 "nbformat_minor": 2
}
