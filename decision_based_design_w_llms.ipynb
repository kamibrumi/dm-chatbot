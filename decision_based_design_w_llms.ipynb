{
 "cells": [
  {
   "cell_type": "markdown",
   "metadata": {},
   "source": [
    "Notebook to experiment with the following end to end process: from dataset+task in NL, to typology based diagram, to design recommendation."
   ]
  },
  {
   "cell_type": "code",
   "execution_count": 27,
   "metadata": {},
   "outputs": [],
   "source": [
    "from langchain_community.llms import Ollama\n",
    "from langchain.prompts import ChatPromptTemplate\n",
    "from langchain.chat_models import ChatOpenAI\n",
    "from langchain.schema.output_parser import StrOutputParser\n",
    "from langchain.document_loaders import PyPDFLoader\n",
    "from langchain_community.embeddings import HuggingFaceBgeEmbeddings\n",
    "from langchain.document_loaders import PyPDFLoader\n",
    "from langchain.vectorstores import Chroma\n",
    "from langchain_community.embeddings import HuggingFaceBgeEmbeddings\n",
    "from langchain_community.llms import Ollama\n",
    "from langchain.text_splitter import TokenTextSplitter\n",
    "import glob\n",
    "from pprint import pprint\n",
    "\n",
    "from langchain.document_loaders import NotionDirectoryLoader\n",
    "from langchain.text_splitter import MarkdownHeaderTextSplitter\n",
    "from langchain_community.document_loaders import UnstructuredMarkdownLoader\n",
    "from langchain_core.documents import Document\n",
    "\n",
    "from langchain.prompts import ChatPromptTemplate\n",
    "from langchain.chat_models import ChatOpenAI\n",
    "from langchain.schema.output_parser import StrOutputParser\n",
    "\n",
    "from langchain.schema.runnable import RunnableMap\n",
    "from langchain_core.prompts import PromptTemplate"
   ]
  },
  {
   "cell_type": "code",
   "execution_count": 65,
   "metadata": {},
   "outputs": [],
   "source": [
    "model = Ollama(model=\"llama3:8b\", temperature=0)"
   ]
  },
  {
   "cell_type": "markdown",
   "metadata": {},
   "source": [
    "## Determine the end goal/decision"
   ]
  },
  {
   "cell_type": "code",
   "execution_count": 66,
   "metadata": {},
   "outputs": [],
   "source": [
    "documents = []\n",
    "documents.extend(PyPDFLoader(\"docs/dm.pdf\").load())"
   ]
  },
  {
   "cell_type": "code",
   "execution_count": 67,
   "metadata": {},
   "outputs": [
    {
     "data": {
      "text/plain": [
       "260"
      ]
     },
     "execution_count": 67,
     "metadata": {},
     "output_type": "execute_result"
    }
   ],
   "source": [
    "text_splitter = TokenTextSplitter(chunk_size=100, chunk_overlap=25)\n",
    "docs = text_splitter.split_documents(documents)\n",
    "len(docs)"
   ]
  },
  {
   "cell_type": "code",
   "execution_count": 68,
   "metadata": {},
   "outputs": [
    {
     "name": "stderr",
     "output_type": "stream",
     "text": [
      "/Users/cameliadanielabrumar/anaconda3/envs/llama-env/lib/python3.12/site-packages/huggingface_hub/file_download.py:1132: FutureWarning: `resume_download` is deprecated and will be removed in version 1.0.0. Downloads always resume when possible. If you want to force a new download, use `force_download=True`.\n",
      "  warnings.warn(\n",
      "huggingface/tokenizers: The current process just got forked, after parallelism has already been used. Disabling parallelism to avoid deadlocks...\n",
      "To disable this warning, you can either:\n",
      "\t- Avoid using `tokenizers` before the fork if possible\n",
      "\t- Explicitly set the environment variable TOKENIZERS_PARALLELISM=(true | false)\n"
     ]
    },
    {
     "name": "stdout",
     "output_type": "stream",
     "text": [
      "260\n"
     ]
    }
   ],
   "source": [
    "model_name = \"BAAI/bge-small-en\"\n",
    "model_kwargs = {\"device\": \"cpu\"}\n",
    "encode_kwargs = {\"normalize_embeddings\": True}\n",
    "hf = HuggingFaceBgeEmbeddings(\n",
    "    model_name=model_name, model_kwargs=model_kwargs, encode_kwargs=encode_kwargs\n",
    ")\n",
    "\n",
    "persist_directory = 'docs/chroma/'\n",
    "!rm -rf docs/chroma  # remove old database files if any\n",
    "\n",
    "vectordb = Chroma.from_documents( # had an error previuously, downgraded to chromadb version 0.4.3 using command: pip install chromadb==0.4.3. See https://github.com/zylon-ai/private-gpt/issues/1012\n",
    "    documents=docs,\n",
    "    embedding=hf,\n",
    "    persist_directory=persist_directory,\n",
    ")\n",
    "retriever = vectordb.as_retriever()\n",
    "\n",
    "print(vectordb._collection.count())"
   ]
  },
  {
   "cell_type": "code",
   "execution_count": 69,
   "metadata": {},
   "outputs": [],
   "source": [
    "template = \"\"\"Imagine you are a visualization designer who wants to understand what are the decisions an expert in embryology and in vitro fertilization would make when designing a visualization.\n",
    "You are tasked with taking the dataset and the task the expert is trying to accomplish and translating the task into one of the decision making tasks that appear in Typology of\n",
    "Decision-Making Tasks for Visualization paper.\n",
    "\n",
    "The three possible decision tasks are: CHOOSE, ACTIVATE and CREATE. Give a brief explanation of the decision making task you chose and why you think it is the most appropriate for the task at hand.\n",
    "When providing reasons, give explanations that relate to the definitions of the three tasks as described in the Typology of Decision-Making Tasks for Visualization paper.\n",
    "The dataset description, task description, and typology of decision making tasks paper are given below. \n",
    "\n",
    "Relevant context from the Typology of Decision-Making Tasks for Visualization paper: {context}\n",
    "Data Description: {data_description}\n",
    "Task Description: {task_description}\n",
    "\"\"\"\n",
    "# prompt = ChatPromptTemplate.from_template(template)\n",
    "prompt_template = PromptTemplate.from_template(template)"
   ]
  },
  {
   "cell_type": "code",
   "execution_count": 70,
   "metadata": {},
   "outputs": [
    {
     "data": {
      "text/plain": [
       "[Document(page_content=' a typology for decision-making tasks in visualiza-\\ntion, addressing the limitations of existing taxonomies. Built upon prior\\nresearch and informed by design goals derived from a thorough liter-\\nature review, the typology comprises three decision tasks: CHOOSE,\\nACTIV ATE, and CREATE. These tasks allow for the representation\\nof complex decision-making structures, as they can be composed or\\ndecomposed into other tasks. The typology demonstrates completeness,', metadata={'page': 8, 'source': 'docs/dm.pdf'}),\n",
       " Document(page_content=' real-world visualization\\nsystems.\\n4.1 Decision-Making Tasks\\nOur typology consists of three tasks derived from the scientific\\nliterature [27, 28] : CHOOSE, ACTIV ATE, and CREATE. Each task is\\na function that represents a specific and distinct decision problem. The\\ntype of the inputs to these functions does not change the core process\\nof the decision task. Some of the key differences between the tasks are\\nthe unique transformations of', metadata={'page': 3, 'source': 'docs/dm.pdf'}),\n",
       " Document(page_content=' created a typology that\\nreflects and captures the ubiquity of decision-making while allowing\\nfor flexibility in the execution of decisions. Here we define the tasks of\\nour typology, focusing on the unique properties of each. We then move\\nto a discussion of the composability of the tasks, followed by four case\\nstudies that illustrate the outlined properties in real-world visualization\\nsystems.\\n4.1 Decision-Making Tasks\\nOur typology consists of three tasks', metadata={'page': 3, 'source': 'docs/dm.pdf'}),\n",
       " Document(page_content=' shows the three decision tasks in our typology: CHOOSE, ACTIVATE, and CREATE. The CHOOSE task assesses\\noptions and outputs a subset deemed optimal or best. The ACTIVATE task represents a decision where options are evaluated, and\\nonly those that meet or exceed a threshold are returned. The CREATE task represents decisions on assembling, synthesizing, or\\ngenerating new information. Together, these three decision tasks can be composed to represent complex decision-making problems.', metadata={'page': 0, 'source': 'docs/dm.pdf'})]"
      ]
     },
     "execution_count": 70,
     "metadata": {},
     "output_type": "execute_result"
    }
   ],
   "source": [
    "dm_task_definitions_question = \"What are the three decision making tasks in my typology?\"\n",
    "retriever.get_relevant_documents(dm_task_definitions_question)"
   ]
  },
  {
   "cell_type": "code",
   "execution_count": 71,
   "metadata": {},
   "outputs": [],
   "source": [
    "nl_to_typology_goal_chain = RunnableMap({\n",
    "    \"context\": lambda x: retriever.get_relevant_documents(dm_task_definitions_question),\n",
    "    \"data_description\": lambda x: x[\"data\"],\n",
    "    \"task_description\": lambda x: x[\"task\"]\n",
    "}) | prompt_template | model"
   ]
  },
  {
   "cell_type": "code",
   "execution_count": 73,
   "metadata": {},
   "outputs": [
    {
     "name": "stdout",
     "output_type": "stream",
     "text": [
      "After analyzing the dataset and task description, I believe that the most appropriate decision-making task is ACTIVATE.\n",
      "\n",
      "The ACTIVATE task represents a decision where options are evaluated, and only those that meet or exceed a threshold are returned. In this case, the expert in embryology and in vitro fertilization needs to evaluate the medication dose based on various patient parameters (age, BMI, AMH, and AFC) and recommend a dosage for the current patient.\n",
      "\n",
      "The task requires evaluating options (different medication doses) against specific criteria (patient parameters), and only those that meet or exceed a certain threshold (optimal dosage) are returned. This process involves filtering out suboptimal options based on the evaluation of the patient's characteristics, which aligns with the ACTIVATE task definition.\n",
      "\n",
      "In contrast, the CHOOSE task would require selecting one option from a set of available options, which might not accurately capture the complexity of evaluating multiple patient parameters and recommending an optimal dosage. The CREATE task would involve generating new information or assembling existing information to make a decision, which is not applicable in this case since the expert already has the dataset and needs to evaluate it based on specific criteria.\n",
      "\n",
      "Therefore, I believe that the ACTIVATE task best represents the decision-making process required to understand how medication dose varies with patient parameters and recommend an optimal dosage for the current patient.\n"
     ]
    }
   ],
   "source": [
    "nl_to_typology_goal_chain_output =  nl_to_typology_goal_chain.invoke({\"data\": \"tabular data where each row is a patient, and the associated levels of age, bmi amh and afc at the time of the Egg Retrieval Procedure.\",\n",
    "              \"task\": \"understand how the medication dose varies with the following patient parameters: age, bmi amh and afc then recommend a dosage for the current patient.\"\n",
    "              })\n",
    "print(nl_to_typology_goal_chain_output)"
   ]
  },
  {
   "cell_type": "markdown",
   "metadata": {},
   "source": [
    "## Expand the goal of the "
   ]
  },
  {
   "cell_type": "code",
   "execution_count": null,
   "metadata": {},
   "outputs": [],
   "source": []
  }
 ],
 "metadata": {
  "kernelspec": {
   "display_name": "llama-env",
   "language": "python",
   "name": "python3"
  },
  "language_info": {
   "codemirror_mode": {
    "name": "ipython",
    "version": 3
   },
   "file_extension": ".py",
   "mimetype": "text/x-python",
   "name": "python",
   "nbconvert_exporter": "python",
   "pygments_lexer": "ipython3",
   "version": "3.12.3"
  }
 },
 "nbformat": 4,
 "nbformat_minor": 2
}
